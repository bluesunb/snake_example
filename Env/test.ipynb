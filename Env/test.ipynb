{
 "cells": [
  {
   "cell_type": "code",
   "execution_count": 3,
   "metadata": {
    "collapsed": true
   },
   "outputs": [],
   "source": [
    "import numpy as np\n",
    "import snake_env, snake_env2"
   ]
  },
  {
   "cell_type": "code",
   "execution_count": 4,
   "metadata": {
    "collapsed": false
   },
   "outputs": [],
   "source": [
    "env1 = snake_env.Snake(grid_size=(8,8))\n",
    "env2 = snake_env2.Snake(grid_size=(8,8), body_length=5)"
   ]
  },
  {
   "cell_type": "code",
   "execution_count": 5,
   "metadata": {
    "collapsed": false
   },
   "outputs": [
    {
     "name": "stdout",
     "output_type": "stream",
     "text": [
      "\u001b[H\u001b[2J░░░░░░░░░░░░░░░░\n",
      "██████░░░░░░░░░░\n",
      "░░████░░○○░░░░░░\n",
      "░░░░░░░░░░░░░░░░\n",
      "░░░░░░░░░░░░░░░░\n",
      "░░░░░░░░░░░░░░░░\n",
      "░░░░░░░░░░░░░░░░\n",
      "░░░░░░░░░░░░░░░░\n"
     ]
    }
   ],
   "source": [
    "env1.render(mode='char')"
   ]
  },
  {
   "cell_type": "code",
   "execution_count": 6,
   "metadata": {
    "collapsed": false
   },
   "outputs": [
    {
     "name": "stdout",
     "output_type": "stream",
     "text": [
      "\u001b[H\u001b[2J░░░░░░░░░░░░░░░░\n",
      "░░░░░░░░░░░░░░░░\n",
      "░░░░░░░░░░░░░░░░\n",
      "░░░░░░░░░░░░░░░░\n",
      "░░░░░░░░░░░░░░░░\n",
      "░░░░░░████░░○○░░\n",
      "░░░░░░████░░░░░░\n",
      "░░░░░░██░░░░░░░░\n"
     ]
    }
   ],
   "source": [
    "env2.render(mode='char')"
   ]
  },
  {
   "cell_type": "code",
   "execution_count": 25,
   "metadata": {
    "collapsed": false
   },
   "outputs": [
    {
     "ename": "NameError",
     "evalue": "name 'snake_env' is not defined",
     "output_type": "error",
     "traceback": [
      "\u001b[0;31m---------------------------------------------------------------------------\u001b[0m",
      "\u001b[0;31mNameError\u001b[0m                                 Traceback (most recent call last)",
      "Cell \u001b[0;32mIn[25], line 15\u001b[0m\n\u001b[1;32m     11\u001b[0m         \u001b[39mreturn\u001b[39;00m res\n\u001b[1;32m     12\u001b[0m     \u001b[39mreturn\u001b[39;00m timer_wrapper\n\u001b[1;32m     14\u001b[0m \u001b[39m@timer\u001b[39m\n\u001b[0;32m---> 15\u001b[0m \u001b[39mdef\u001b[39;00m \u001b[39mplay\u001b[39m(env: snake_env\u001b[39m.\u001b[39mSnake):\n\u001b[1;32m     16\u001b[0m     \u001b[39mfor\u001b[39;00m i \u001b[39min\u001b[39;00m \u001b[39mrange\u001b[39m(\u001b[39m10000\u001b[39m):\n\u001b[1;32m     17\u001b[0m         done, info \u001b[39m=\u001b[39m \u001b[39mFalse\u001b[39;00m, {}\n",
      "\u001b[0;31mNameError\u001b[0m: name 'snake_env' is not defined"
     ]
    }
   ],
   "source": [
    "import time\n",
    "from functools import wraps\n",
    "\n",
    "def timer(func):\n",
    "    @wraps(func)\n",
    "    def timer_wrapper(*args, **kwargs):\n",
    "        start = time.perf_counter()\n",
    "        res = func(*args, **kwargs)\n",
    "        end = time.perf_counter()\n",
    "        print(f'Func: {func.__name__}{args} {kwargs} took {end - start:.4f} sec')\n",
    "        return res\n",
    "    return timer_wrapper\n",
    "\n",
    "@timer\n",
    "def play(env: snake_env.Snake):\n",
    "    for i in range(10000):\n",
    "        done, info = False, {}\n",
    "        reward = 0\n",
    "        obs = env.reset()\n",
    "        while not done:\n",
    "            obs, reward, done, info = env.step(np.random.randint(0, 4))"
   ]
  },
  {
   "cell_type": "code",
   "execution_count": 18,
   "metadata": {
    "collapsed": false
   },
   "outputs": [
    {
     "name": "stdout",
     "output_type": "stream",
     "text": [
      "Func: play(<snake_env.Snake object at 0x7f91e01f07c0>,) {} took 2.0154 sec\n"
     ]
    }
   ],
   "source": [
    "play(env1)"
   ]
  },
  {
   "cell_type": "code",
   "execution_count": 19,
   "metadata": {
    "collapsed": false
   },
   "outputs": [
    {
     "name": "stdout",
     "output_type": "stream",
     "text": [
      "Func: play(<snake_env2.Snake object at 0x7f91e01f02e0>,) {} took 4.3828 sec\n"
     ]
    }
   ],
   "source": [
    "play(env2)"
   ]
  },
  {
   "cell_type": "code",
   "execution_count": 11,
   "metadata": {
    "collapsed": false
   },
   "outputs": [],
   "source": [
    "from stable_baselines3.common.utils import set_random_seed\n",
    "\n",
    "def random_play(env):\n",
    "    set_random_seed(42, using_cuda=False)\n",
    "    trial_rewards = []\n",
    "    for _ in range(1000):\n",
    "        done, info = False, {}\n",
    "        reward = 0\n",
    "        obs = env.reset()\n",
    "        cum_reward = 0\n",
    "        while not done:\n",
    "            action = np.random.randint(0, 4)\n",
    "            obs, reward, done, info = env.step(action)\n",
    "            cum_reward += reward\n",
    "        trial_rewards.append(cum_reward)\n",
    "    \n",
    "    return np.mean(trial_rewards)"
   ]
  },
  {
   "cell_type": "code",
   "execution_count": 12,
   "metadata": {},
   "outputs": [],
   "source": [
    "r1 = random_play(env1)\n",
    "r2 = random_play(env2)"
   ]
  },
  {
   "cell_type": "code",
   "execution_count": 13,
   "metadata": {},
   "outputs": [
    {
     "data": {
      "text/plain": [
       "-1.0011110990609435"
      ]
     },
     "execution_count": 13,
     "metadata": {},
     "output_type": "execute_result"
    }
   ],
   "source": [
    "r1"
   ]
  },
  {
   "cell_type": "code",
   "execution_count": 14,
   "metadata": {},
   "outputs": [
    {
     "data": {
      "text/plain": [
       "-4.995340592643895"
      ]
     },
     "execution_count": 14,
     "metadata": {},
     "output_type": "execute_result"
    }
   ],
   "source": [
    "r2"
   ]
  },
  {
   "cell_type": "code",
   "execution_count": 22,
   "metadata": {},
   "outputs": [
    {
     "name": "stdout",
     "output_type": "stream",
     "text": [
      "[(3, 3), (3, 2), (4, 2), (4, 3), (4, 4), (3, 4), (2, 4), (1, 4), (0, 4)]\n",
      "  0 1 2 3 4 5 6 7\n",
      "0 . . . . x . . . \n",
      "1 . . . . x . . . \n",
      "2 . . . . x . . . \n",
      "3 . . x x x . . . \n",
      "4 . . x x x . . . \n",
      "5 . . . . . . . . \n",
      "6 . . . . . . . . \n",
      "7 . . . . . . . . \n"
     ]
    }
   ],
   "source": [
    "import numpy as np\n",
    "\n",
    "direction_vec = np.array([[-1,0], [0,1], [1,0], [0,-1]])\n",
    "max_shape = 8\n",
    "\n",
    "def random_body(length = 5):\n",
    "    board = np.zeros((max_shape, max_shape))\n",
    "    body = [(np.random.randint(1, max_shape - 1), np.random.randint(1, max_shape - 1))]\n",
    "    board[body[0]] = 1\n",
    "\n",
    "    def get_candidate(pos):\n",
    "        candidate = pos + direction_vec\n",
    "        candidate = candidate[(candidate >= 0).all(axis=1) & (candidate < max_shape).all(axis=1)]\n",
    "        candidate = candidate[board[candidate[:,0], candidate[:,1]] == 0]\n",
    "        candidate = [tuple(x) for x in candidate]\n",
    "        return candidate\n",
    "\n",
    "    for _ in range(length - 1):\n",
    "        head_candidate = get_candidate(body[0])\n",
    "        if len(body) == 1:\n",
    "            body_candidate = head_candidate\n",
    "        else:\n",
    "            body_candidate = get_candidate(body[-1])\n",
    "        \n",
    "        if len(head_candidate) == 1 and head_candidate[0] in body_candidate:\n",
    "            body_candidate.remove(head_candidate[0])\n",
    "\n",
    "        if len(body_candidate) == 0:\n",
    "            break\n",
    "\n",
    "        body.append(body_candidate[np.random.randint(0, len(body_candidate))])\n",
    "        board[body[-1]] = 1\n",
    "    \n",
    "    return body\n",
    "\n",
    "\n",
    "body = random_body(9)\n",
    "print(body)\n",
    "print('  ' + ' '.join(list(map(str, range(max_shape)))))\n",
    "for i in range(max_shape):\n",
    "    print(i, end=' ')\n",
    "    for j in range(max_shape):\n",
    "        if (i,j) in body:\n",
    "            print('x', end=' ')\n",
    "        else:\n",
    "            print('.', end=' ')\n",
    "    print()\n"
   ]
  },
  {
   "cell_type": "code",
   "execution_count": 26,
   "metadata": {},
   "outputs": [],
   "source": [
    "import time\n",
    "from functools import wraps\n",
    "\n",
    "def timer(func):\n",
    "    @wraps(func)\n",
    "    def timer_wrapper(*args, **kwargs):\n",
    "        start = time.perf_counter()\n",
    "        res = func(*args, **kwargs)\n",
    "        end = time.perf_counter()\n",
    "        print(f'Func: {func.__name__}{args} {kwargs} took {end - start:.4f} sec')\n",
    "        return res\n",
    "    return timer_wrapper"
   ]
  },
  {
   "cell_type": "code",
   "execution_count": 28,
   "metadata": {},
   "outputs": [
    {
     "name": "stdout",
     "output_type": "stream",
     "text": [
      "Func: test() {} took 0.0009 sec\n"
     ]
    }
   ],
   "source": [
    "@timer\n",
    "def test(i=10000):\n",
    "    body = random_body(9)\n",
    "\n",
    "test()\n"
   ]
  },
  {
   "cell_type": "code",
   "execution_count": 29,
   "metadata": {},
   "outputs": [
    {
     "data": {
      "text/plain": [
       "array([1, 1])"
      ]
     },
     "execution_count": 29,
     "metadata": {},
     "output_type": "execute_result"
    }
   ],
   "source": [
    "(0,1) + np.array([1,0])"
   ]
  },
  {
   "cell_type": "code",
   "execution_count": null,
   "metadata": {},
   "outputs": [],
   "source": []
  }
 ],
 "metadata": {
  "kernelspec": {
   "display_name": "rl",
   "language": "python",
   "name": "python3"
  },
  "language_info": {
   "codemirror_mode": {
    "name": "ipython",
    "version": 3
   },
   "file_extension": ".py",
   "mimetype": "text/x-python",
   "name": "python",
   "nbconvert_exporter": "python",
   "pygments_lexer": "ipython3",
   "version": "3.8.15"
  },
  "vscode": {
   "interpreter": {
    "hash": "480fcb43cba6579d95ee628db421c0086e2e5483ec259f68dd81d0f04de99e70"
   }
  }
 },
 "nbformat": 4,
 "nbformat_minor": 0
}
