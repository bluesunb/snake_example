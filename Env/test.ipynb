{
 "cells": [
  {
   "cell_type": "code",
   "execution_count": 1,
   "metadata": {
    "collapsed": true
   },
   "outputs": [],
   "source": [
    "import numpy as np\n",
    "import snake_env, snake_env2"
   ]
  },
  {
   "cell_type": "code",
   "execution_count": 14,
   "outputs": [],
   "source": [
    "env1 = snake_env.Snake(grid_size=(8,8))\n",
    "env2 = snake_env2.Snake(grid_size=(8,8), reset_kwargs={'body_length': [5,7]})"
   ],
   "metadata": {
    "collapsed": false
   }
  },
  {
   "cell_type": "code",
   "execution_count": 15,
   "outputs": [
    {
     "name": "stdout",
     "output_type": "stream",
     "text": [
      "\u001B[H\u001B[2J○○░░░░░░░░░░░░░░\n",
      "░░░░░░░░░░░░░░░░\n",
      "░░░░░░░░░░░░░░░░\n",
      "░░░░░░░░░░░░░░░░\n",
      "░░░░░░░░░░░░░░░░\n",
      "░░░░░░░░░░░░░░░░\n",
      "░░░░░░░░░░████░░\n",
      "░░░░░░░░░░██░░░░\n"
     ]
    }
   ],
   "source": [
    "env1.render(mode='char')"
   ],
   "metadata": {
    "collapsed": false
   }
  },
  {
   "cell_type": "code",
   "execution_count": 16,
   "outputs": [
    {
     "name": "stdout",
     "output_type": "stream",
     "text": [
      "\u001B[H\u001B[2J░░░░░░░░░░░░░░░░\n",
      "░░░░░░░░░░░░░░░░\n",
      "░░░░░░░░░░░░░░░░\n",
      "░░░░░░░░░░○○░░░░\n",
      "░░██████░░░░░░░░\n",
      "████░░░░░░░░░░░░\n",
      "██░░░░░░░░░░░░░░\n",
      "░░░░░░░░░░░░░░░░\n"
     ]
    }
   ],
   "source": [
    "env2.render(mode='char')"
   ],
   "metadata": {
    "collapsed": false
   }
  },
  {
   "cell_type": "code",
   "execution_count": 17,
   "outputs": [],
   "source": [
    "import time\n",
    "from functools import wraps\n",
    "\n",
    "def timer(func):\n",
    "    @wraps(func)\n",
    "    def timer_wrapper(*args, **kwargs):\n",
    "        start = time.perf_counter()\n",
    "        res = func(*args, **kwargs)\n",
    "        end = time.perf_counter()\n",
    "        print(f'Func: {func.__name__}{args} {kwargs} took {end - start:.4f} sec')\n",
    "        return res\n",
    "    return timer_wrapper\n",
    "\n",
    "@timer\n",
    "def play(env: snake_env.Snake):\n",
    "    for i in range(10000):\n",
    "        done, info = False, {}\n",
    "        reward = 0\n",
    "        obs = env.reset()\n",
    "        while not done:\n",
    "            obs, reward, done, info = env.step(np.random.randint(0, 4))"
   ],
   "metadata": {
    "collapsed": false
   }
  },
  {
   "cell_type": "code",
   "execution_count": 18,
   "outputs": [
    {
     "name": "stdout",
     "output_type": "stream",
     "text": [
      "Func: play(<snake_env.Snake object at 0x7f91e01f07c0>,) {} took 2.0154 sec\n"
     ]
    }
   ],
   "source": [
    "play(env1)"
   ],
   "metadata": {
    "collapsed": false
   }
  },
  {
   "cell_type": "code",
   "execution_count": 19,
   "outputs": [
    {
     "name": "stdout",
     "output_type": "stream",
     "text": [
      "Func: play(<snake_env2.Snake object at 0x7f91e01f02e0>,) {} took 4.3828 sec\n"
     ]
    }
   ],
   "source": [
    "play(env2)"
   ],
   "metadata": {
    "collapsed": false
   }
  },
  {
   "cell_type": "code",
   "execution_count": null,
   "outputs": [],
   "source": [],
   "metadata": {
    "collapsed": false
   }
  }
 ],
 "metadata": {
  "kernelspec": {
   "display_name": "Python 3",
   "language": "python",
   "name": "python3"
  },
  "language_info": {
   "codemirror_mode": {
    "name": "ipython",
    "version": 2
   },
   "file_extension": ".py",
   "mimetype": "text/x-python",
   "name": "python",
   "nbconvert_exporter": "python",
   "pygments_lexer": "ipython2",
   "version": "2.7.6"
  }
 },
 "nbformat": 4,
 "nbformat_minor": 0
}
