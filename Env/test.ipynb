{
 "cells": [
  {
   "cell_type": "code",
   "execution_count": 3,
   "metadata": {
    "collapsed": true
   },
   "outputs": [],
   "source": [
    "import numpy as np\n",
    "import snake_env, snake_env2"
   ]
  },
  {
   "cell_type": "code",
   "execution_count": 4,
   "metadata": {
    "collapsed": false
   },
   "outputs": [],
   "source": [
    "env1 = snake_env.Snake(grid_size=(8,8))\n",
    "env2 = snake_env2.Snake(grid_size=(8,8), body_length=5)"
   ]
  },
  {
   "cell_type": "code",
   "execution_count": 5,
   "metadata": {
    "collapsed": false
   },
   "outputs": [
    {
     "name": "stdout",
     "output_type": "stream",
     "text": [
      "\u001b[H\u001b[2J░░░░░░░░░░░░░░░░\n",
      "██████░░░░░░░░░░\n",
      "░░████░░○○░░░░░░\n",
      "░░░░░░░░░░░░░░░░\n",
      "░░░░░░░░░░░░░░░░\n",
      "░░░░░░░░░░░░░░░░\n",
      "░░░░░░░░░░░░░░░░\n",
      "░░░░░░░░░░░░░░░░\n"
     ]
    }
   ],
   "source": [
    "env1.render(mode='char')"
   ]
  },
  {
   "cell_type": "code",
   "execution_count": 6,
   "metadata": {
    "collapsed": false
   },
   "outputs": [
    {
     "name": "stdout",
     "output_type": "stream",
     "text": [
      "\u001b[H\u001b[2J░░░░░░░░░░░░░░░░\n",
      "░░░░░░░░░░░░░░░░\n",
      "░░░░░░░░░░░░░░░░\n",
      "░░░░░░░░░░░░░░░░\n",
      "░░░░░░░░░░░░░░░░\n",
      "░░░░░░████░░○○░░\n",
      "░░░░░░████░░░░░░\n",
      "░░░░░░██░░░░░░░░\n"
     ]
    }
   ],
   "source": [
    "env2.render(mode='char')"
   ]
  },
  {
   "cell_type": "code",
   "execution_count": 17,
   "metadata": {
    "collapsed": false
   },
   "outputs": [],
   "source": [
    "import time\n",
    "from functools import wraps\n",
    "\n",
    "def timer(func):\n",
    "    @wraps(func)\n",
    "    def timer_wrapper(*args, **kwargs):\n",
    "        start = time.perf_counter()\n",
    "        res = func(*args, **kwargs)\n",
    "        end = time.perf_counter()\n",
    "        print(f'Func: {func.__name__}{args} {kwargs} took {end - start:.4f} sec')\n",
    "        return res\n",
    "    return timer_wrapper\n",
    "\n",
    "@timer\n",
    "def play(env: snake_env.Snake):\n",
    "    for i in range(10000):\n",
    "        done, info = False, {}\n",
    "        reward = 0\n",
    "        obs = env.reset()\n",
    "        while not done:\n",
    "            obs, reward, done, info = env.step(np.random.randint(0, 4))"
   ]
  },
  {
   "cell_type": "code",
   "execution_count": 18,
   "metadata": {
    "collapsed": false
   },
   "outputs": [
    {
     "name": "stdout",
     "output_type": "stream",
     "text": [
      "Func: play(<snake_env.Snake object at 0x7f91e01f07c0>,) {} took 2.0154 sec\n"
     ]
    }
   ],
   "source": [
    "play(env1)"
   ]
  },
  {
   "cell_type": "code",
   "execution_count": 19,
   "metadata": {
    "collapsed": false
   },
   "outputs": [
    {
     "name": "stdout",
     "output_type": "stream",
     "text": [
      "Func: play(<snake_env2.Snake object at 0x7f91e01f02e0>,) {} took 4.3828 sec\n"
     ]
    }
   ],
   "source": [
    "play(env2)"
   ]
  },
  {
   "cell_type": "code",
   "execution_count": 11,
   "metadata": {
    "collapsed": false
   },
   "outputs": [],
   "source": [
    "from stable_baselines3.common.utils import set_random_seed\n",
    "\n",
    "def random_play(env):\n",
    "    set_random_seed(42, using_cuda=False)\n",
    "    trial_rewards = []\n",
    "    for _ in range(1000):\n",
    "        done, info = False, {}\n",
    "        reward = 0\n",
    "        obs = env.reset()\n",
    "        cum_reward = 0\n",
    "        while not done:\n",
    "            action = np.random.randint(0, 4)\n",
    "            obs, reward, done, info = env.step(action)\n",
    "            cum_reward += reward\n",
    "        trial_rewards.append(cum_reward)\n",
    "    \n",
    "    return np.mean(trial_rewards)"
   ]
  },
  {
   "cell_type": "code",
   "execution_count": 12,
   "metadata": {},
   "outputs": [],
   "source": [
    "r1 = random_play(env1)\n",
    "r2 = random_play(env2)"
   ]
  },
  {
   "cell_type": "code",
   "execution_count": 13,
   "metadata": {},
   "outputs": [
    {
     "data": {
      "text/plain": [
       "-1.0011110990609435"
      ]
     },
     "execution_count": 13,
     "metadata": {},
     "output_type": "execute_result"
    }
   ],
   "source": [
    "r1"
   ]
  },
  {
   "cell_type": "code",
   "execution_count": 14,
   "metadata": {},
   "outputs": [
    {
     "data": {
      "text/plain": [
       "-4.995340592643895"
      ]
     },
     "execution_count": 14,
     "metadata": {},
     "output_type": "execute_result"
    }
   ],
   "source": [
    "r2"
   ]
  },
  {
   "cell_type": "code",
   "execution_count": null,
   "metadata": {},
   "outputs": [],
   "source": []
  }
 ],
 "metadata": {
  "kernelspec": {
   "display_name": "rl",
   "language": "python",
   "name": "python3"
  },
  "language_info": {
   "codemirror_mode": {
    "name": "ipython",
    "version": 3
   },
   "file_extension": ".py",
   "mimetype": "text/x-python",
   "name": "python",
   "nbconvert_exporter": "python",
   "pygments_lexer": "ipython3",
   "version": "3.8.13"
  },
  "vscode": {
   "interpreter": {
    "hash": "8d4b6eed0dbf8490271aa61b77bc07d9341c843e87fbb95f8141dc5582899399"
   }
  }
 },
 "nbformat": 4,
 "nbformat_minor": 0
}
